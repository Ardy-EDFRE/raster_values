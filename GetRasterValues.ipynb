{
 "cells": [
  {
   "cell_type": "code",
   "execution_count": 1,
   "id": "a9251dd4",
   "metadata": {},
   "outputs": [],
   "source": [
    "from arcgis.gis import GIS\n",
    "from decouple import config"
   ]
  },
  {
   "cell_type": "code",
   "execution_count": null,
   "id": "2c55090d",
   "metadata": {},
   "outputs": [],
   "source": [
    "url = config('url', default='')\n",
    "username = config('username', default='')\n",
    "password = config('password', default='')"
   ]
  },
  {
   "cell_type": "code",
   "execution_count": null,
   "id": "070a4586",
   "metadata": {},
   "outputs": [],
   "source": [
    "# Connect to the GIS.\n",
    "try:\n",
    "    web_gis = GIS(url, username, password)\n",
    "    print(\"Successfully connected to {0}\".format(web_gis.properties.name))\n",
    "except:\n",
    "    print(\"Failed login\")"
   ]
  },
  {
   "cell_type": "code",
   "execution_count": null,
   "id": "6adff22d",
   "metadata": {},
   "outputs": [],
   "source": [
    "# Search for the DEM imagery layer item by title\n",
    "dem_user_search = input(\"What dem are you searching for? (Please use exact name) -- \")\n",
    "item_dem_search = web_gis.content.search(f'title:{dem_user_search}', 'Imagery Layer')[0]\n",
    "item_dem = item_dem_search.layers[0]"
   ]
  },
  {
   "cell_type": "code",
   "execution_count": null,
   "id": "d208eb5e",
   "metadata": {},
   "outputs": [],
   "source": [
    "# Search for the Ventura County feature layer item by title\n",
    "study_area_user_search = input(\"What is your study area? (ex: EDF Project Boundaries) \")\n",
    "item_study_area = web_gis.content.search(f'title:{study_area_user_search}', 'Feature Layer')[0]\n",
    "item_study_area"
   ]
  },
  {
   "cell_type": "code",
   "execution_count": null,
   "id": "1fa8c306",
   "metadata": {},
   "outputs": [],
   "source": [
    "# Get a reference to the feature layer from the portal item\n",
    "lyr_study_area = item_study_area.layers[0]\n",
    "lyr_study_area"
   ]
  },
  {
   "cell_type": "code",
   "execution_count": null,
   "id": "d0caf97e",
   "metadata": {},
   "outputs": [],
   "source": [
    "project_name = input(\"What is your project name? \")\n",
    "# Query the study area layer to get the boundary feature\n",
    "query_study_area = lyr_study_area.query(where=f\"ProjectName = '{project_name}'\")"
   ]
  },
  {
   "cell_type": "code",
   "execution_count": null,
   "id": "3a43513a",
   "metadata": {},
   "outputs": [],
   "source": [
    "layer_sr = query_study_area.spatial_reference\n",
    "tmp_samples = []\n",
    "for feature in query_study_area.features:\n",
    "    feature.geometry['spatialReference'] = layer_sr\n",
    "    tmp_samples.append(item_dem.get_samples(feature.geometry))"
   ]
  },
  {
   "cell_type": "code",
   "execution_count": null,
   "id": "4d50561b",
   "metadata": {},
   "outputs": [],
   "source": [
    "tmp_samples"
   ]
  }
 ],
 "metadata": {
  "kernelspec": {
   "display_name": "Python 3",
   "language": "python",
   "name": "python3"
  },
  "language_info": {
   "codemirror_mode": {
    "name": "ipython",
    "version": 3
   },
   "file_extension": ".py",
   "mimetype": "text/x-python",
   "name": "python",
   "nbconvert_exporter": "python",
   "pygments_lexer": "ipython3",
   "version": "3.7.10"
  }
 },
 "nbformat": 4,
 "nbformat_minor": 5
}
